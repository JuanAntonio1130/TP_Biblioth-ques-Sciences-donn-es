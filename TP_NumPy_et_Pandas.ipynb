{
 "cells": [
  {
   "cell_type": "markdown",
   "id": "b1046af2",
   "metadata": {},
   "source": [
    "# TP : Exploration de NumPy et Pandas\n",
    "\n",
    "## Introduction\n",
    "\n",
    "Ce TP vous guide à travers une série d’exercices utilisant NumPy pour les calculs numériques et Pandas pour la gestion de données tabulaires. \n",
    "Vous apprendrez à manipuler des tableaux, effectuer des calculs statistiques, travailler avec des DataFrames, et visualiser les résultats \n",
    "avec Matplotlib."
   ]
  },
  {
   "cell_type": "markdown",
   "id": "7ff0d3d2",
   "metadata": {},
   "source": [
    "## Prérequis\n",
    "\n",
    "Installez les bibliothèques nécessaires :\n",
    "\n",
    "pip install numpy pandas matplotlib\n",
    "\n",
    "Importez-les dans votre script Python :"
   ]
  },
  {
   "cell_type": "code",
   "execution_count": 2,
   "id": "04482b03",
   "metadata": {},
   "outputs": [],
   "source": [
    "import numpy as np \n",
    "import pandas as pd \n",
    "import matplotlib.pyplot as plt "
   ]
  },
  {
   "cell_type": "markdown",
   "id": "b5fad070",
   "metadata": {},
   "source": [
    "### Partie 1 : Manipulation de tableaux avec NumPy\n",
    "\n",
    "#### 1.1 Création et opérations de base\n",
    "\n",
    "Exemple :"
   ]
  },
  {
   "cell_type": "code",
   "execution_count": 4,
   "id": "5f07ed20",
   "metadata": {},
   "outputs": [
    {
     "name": "stdout",
     "output_type": "stream",
     "text": [
      "Somme : 150\n",
      "Moyenne : 30.0\n"
     ]
    }
   ],
   "source": [
    "# Tableau 1D de 5 éléments\n",
    "arr = np.array([10,30,20,40,50])\n",
    "\n",
    "# Calcul de la somme et la moyenne \n",
    "somme = np.sum(arr)\n",
    "moyenne = np.mean(arr)\n",
    "\n",
    "# Affichage des résultats\n",
    "print(\"Somme :\", somme)\n",
    "print(\"Moyenne :\", moyenne)"
   ]
  },
  {
   "cell_type": "markdown",
   "id": "9639d968",
   "metadata": {},
   "source": [
    "### Partie 2 : Calculs avancés avec NumPy\n",
    "\n",
    "#### 2.1 Normalisation d’un tableau\n",
    "\n",
    "La normalisation consiste à transformer les valeurs d’un tableau pour qu’elles soient comprises entre 0 et 1.\n",
    "\n",
    "Exemple :"
   ]
  },
  {
   "cell_type": "code",
   "execution_count": 5,
   "id": "f561c197",
   "metadata": {},
   "outputs": [
    {
     "name": "stdout",
     "output_type": "stream",
     "text": [
      "Tableau normalisé : [0.   0.25 0.5  0.75 1.  ]\n"
     ]
    }
   ],
   "source": [
    "arr = np.array([1,3,5,7,9])\n",
    "arr_normalized = (arr - np.min(arr)) / (np.max(arr) - np.min(arr))\n",
    "print(\"Tableau normalisé :\", arr_normalized)"
   ]
  },
  {
   "cell_type": "markdown",
   "id": "e2316427",
   "metadata": {},
   "source": [
    "### Partie 3 : Intégration avec Pandas\n",
    "\n",
    "#### 3.1 Création et manipulation d’un DataFrame\n",
    "\n",
    "Exemple :"
   ]
  },
  {
   "cell_type": "code",
   "execution_count": 8,
   "id": "7518bf68",
   "metadata": {},
   "outputs": [
    {
     "name": "stdout",
     "output_type": "stream",
     "text": [
      "DataFrame :\n",
      "    Colonne 1  Colonne 2  Colonne 3\n",
      "0         10         20         30\n",
      "1         40         50         60\n",
      "2         70         80         90\n",
      "----------------------------------------------------------------------------------------------------\n",
      "DataFrame avec moyenne par ligne :\n",
      "    Colonne 1  Colonne 2  Colonne 3  Moyenne\n",
      "0         10         20         30     20.0\n",
      "1         40         50         60     50.0\n",
      "2         70         80         90     80.0\n"
     ]
    }
   ],
   "source": [
    "# Tableau NumPy 3x3\n",
    "data = np.array([[10, 20, 30], [40, 50, 60], [70, 80, 90]])\n",
    "\n",
    "# Conversion en DataFrame\n",
    "df = pd.DataFrame(data, columns=['Colonne 1', 'Colonne 2', 'Colonne 3'])\n",
    "print(\"DataFrame :\\n\", df)\n",
    "print(\"--\"*50)\n",
    "# Ajout d’une colonne avec la moyenne par ligne\n",
    "df['Moyenne'] = df.mean(axis=1)\n",
    "print(\"DataFrame avec moyenne par ligne :\\n\", df)"
   ]
  },
  {
   "cell_type": "markdown",
   "id": "c4fced2d",
   "metadata": {},
   "source": [
    "### Partie 4 : Calculs NumPy sur des données Pandas\n",
    "\n",
    "#### 4.1 Extraction et transformation\n",
    "\n",
    "Exemple :"
   ]
  },
  {
   "cell_type": "code",
   "execution_count": 9,
   "id": "0b604a55",
   "metadata": {},
   "outputs": [
    {
     "name": "stdout",
     "output_type": "stream",
     "text": [
      "X : [1 2 3]\n",
      "Y : [4 5 6]\n",
      "Différence au carré : [9 9 9]\n",
      "DataFrame avec diff_carree :\n",
      "    X  Y  diff_carree\n",
      "0  1  4            9\n",
      "1  2  5            9\n",
      "2  3  6            9\n"
     ]
    }
   ],
   "source": [
    "df = pd.DataFrame({'X': [1, 2, 3], 'Y': [4, 5, 6]})\n",
    "\n",
    "# Extraction des colonnes X et Y\n",
    "x = df['X'].to_numpy()\n",
    "y = df['Y'].to_numpy()\n",
    "print(\"X :\", x)\n",
    "print(\"Y :\", y)\n",
    "\n",
    "# Calcul de la difference au carré entre X et Y\n",
    "diff_carree = np.square(x - y)\n",
    "print(\"Différence au carré :\", diff_carree)\n",
    "\n",
    "# Ajout d’une colonne avec la somme de X et Y\n",
    "df['diff_carree'] = diff_carree\n",
    "print(\"DataFrame avec diff_carree :\\n\", df)"
   ]
  },
  {
   "cell_type": "markdown",
   "id": "88f01e50",
   "metadata": {},
   "source": [
    "### Partie 5 : Visualisation des données\n",
    "\n",
    "#### 5.1 Génération et tracé\n",
    "\n",
    "Exemple :"
   ]
  },
  {
   "cell_type": "code",
   "execution_count": 11,
   "id": "2c46d3b0",
   "metadata": {},
   "outputs": [
    {
     "data": {
      "image/png": "[encoded data removed]",
      "text/plain": [
       "<Figure size 640x480 with 1 Axes>"
      ]
     },
     "metadata": {},
     "output_type": "display_data"
    }
   ],
   "source": [
    "# Données\n",
    "x = np.linspace(0, 5, 50)\n",
    "y = np.exp(-x) * np.sin(10 * x)\n",
    "\n",
    "# DataFrame\n",
    "df = pd.DataFrame({'X': x, 'Y': y})\n",
    "\n",
    "# Visualisation\n",
    "plt.plot(df['X'], df['Y'], label='Fonction')\n",
    "plt.title('Exponentielle amortie')\n",
    "plt.xlabel('X')\n",
    "plt.ylabel('Y')\n",
    "plt.legend()\n",
    "plt.savefig('plot.png')"
   ]
  },
  {
   "cell_type": "markdown",
   "id": "9d3a9a6c",
   "metadata": {},
   "source": [
    "## Conclusion\n",
    "\n",
    "Ce TP vous a permis de maîtriser des manipulations avancées avec NumPy et Pandas, tout en intégrant des visualisations avec Matplotlib. \n",
    "Ces compétences sont essentielles pour l’analyse de données dans des projets réels. "
   ]
  }
 ],
 "metadata": {
  "kernelspec": {
   "display_name": "base",
   "language": "python",
   "name": "python3"
  },
  "language_info": {
   "codemirror_mode": {
    "name": "ipython",
    "version": 3
   },
   "file_extension": ".py",
   "mimetype": "text/x-python",
   "name": "python",
   "nbconvert_exporter": "python",
   "pygments_lexer": "ipython3",
   "version": "3.12.7"
  }
 },
 "nbformat": 4,
 "nbformat_minor": 5
}
