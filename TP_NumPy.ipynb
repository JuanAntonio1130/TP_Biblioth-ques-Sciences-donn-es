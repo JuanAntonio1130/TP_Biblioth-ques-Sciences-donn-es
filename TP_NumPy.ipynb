{
 "cells": [
  {
   "cell_type": "markdown",
   "id": "fc308398",
   "metadata": {},
   "source": [
    "TP sur la bibliothèque NumPy\n",
    "\n",
    "Introduction\n",
    "\n",
    "NumPy est une bibliothèque Python essentielle pour le calcul numérique. Elle permet de manipuler des tableaux multidimensionnels (arrays) et fournit des fonctions pour effectuer des opérations mathématiques, statistiques et logiques. NumPy est largement utilisé en science des données, en calcul scientifique et en analyse numérique.\n",
    "\n",
    "Dans ce TP, nous allons explorer :\n",
    "\n",
    "L'installation et l'importation de NumPy\n",
    "La création de tableaux\n",
    "Les opérations sur les tableaux\n",
    "L'indexation et le slicing\n",
    "Les fonctions statistiques et mathématiques\n",
    "La manipulation de formes\n",
    "Quelques applications avancées"
   ]
  },
  {
   "cell_type": "markdown",
   "id": "c49027ca",
   "metadata": {},
   "source": [
    "Partie 1 : Installation et importation de NumPy\n",
    "\n",
    "Installation\n",
    "\n",
    "Pour installer NumPy, ouvrez un terminal ou une invite de commande et exécutez :\n",
    "\n",
    "pip install numpy\n",
    "\n",
    "Importation\n",
    "\n",
    "Une fois installée, importez NumPy dans votre script Python avec :"
   ]
  },
  {
   "cell_type": "code",
   "execution_count": 1,
   "id": "9f9af0b3",
   "metadata": {},
   "outputs": [],
   "source": [
    "import numpy as np #L'alias np est une convention courante pour simplifier l'utilisation."
   ]
  },
  {
   "cell_type": "markdown",
   "id": "8848f7b5",
   "metadata": {},
   "source": [
    "Partie 2 : Création de tableaux (arrays)\n",
    "\n",
    "Les tableaux NumPy sont similaires aux listes Python, mais optimisés pour les calculs numériques.\n",
    "\n",
    "Tableaux 1D et 2D"
   ]
  },
  {
   "cell_type": "code",
   "execution_count": 2,
   "id": "30f0dbed",
   "metadata": {},
   "outputs": [
    {
     "name": "stdout",
     "output_type": "stream",
     "text": [
      "[1 2 3 4]\n",
      "[[1 2]\n",
      " [3 4]]\n",
      "(4,)\n",
      "(2, 2)\n"
     ]
    }
   ],
   "source": [
    "arr_1d = np.array([1, 2, 3, 4]) # Création d'un tableau 1D avec des entiers\n",
    "arr_2d = np.array([[1, 2], [3, 4]]) # Création d'un tableau 2D avec des entiers\n",
    "print(arr_1d)\n",
    "print(arr_2d) # Affichage des tableaux\n",
    "print(arr_1d.shape) # Affichage de la forme du tableau 1D\n",
    "print(arr_2d.shape) # Affichage de la forme du tableau 2D"
   ]
  },
  {
   "cell_type": "markdown",
   "id": "2709c3ca",
   "metadata": {},
   "source": [
    "Fonctions pour créer des tableaux spéciaux\n",
    "\n",
    "NumPy propose des fonctions utiles :\n",
    "\n",
    "np.zeros(shape) : Crée un tableau rempli de zéros.\n",
    "\n",
    "np.ones(shape) : Crée un tableau rempli de uns.\n",
    "\n",
    "np.eye(N) : Crée une matrice identité de taille N.\n",
    "\n",
    "np.arange(start, stop, step) : Crée une séquence de nombres.\n",
    "\n",
    "np.linspace(start, stop, num) : Crée num valeurs espacées uniformément."
   ]
  },
  {
   "cell_type": "code",
   "execution_count": 3,
   "id": "05f03ae9",
   "metadata": {},
   "outputs": [
    {
     "name": "stdout",
     "output_type": "stream",
     "text": [
      "[[0. 0. 0.]\n",
      " [0. 0. 0.]]\n",
      "[[1. 1.]\n",
      " [1. 1.]\n",
      " [1. 1.]]\n",
      "[[1. 0. 0.]\n",
      " [0. 1. 0.]\n",
      " [0. 0. 1.]]\n",
      "[0 2 4 6 8]\n",
      "[0.   0.25 0.5  0.75 1.  ]\n"
     ]
    }
   ],
   "source": [
    "zeros = np.zeros((2, 3))  # Tableau 2x3 de zéros\n",
    "print(zeros)\n",
    "\n",
    "ones = np.ones((3, 2))    # Tableau 3x2 de uns\n",
    "print(ones)\n",
    "\n",
    "identity = np.eye(3)      # Matrice identité 3x3\n",
    "print(identity)\n",
    "\n",
    "seq = np.arange(0, 10, 2) # Tableau de 0 à 10 avec un pas de 2\n",
    "print(seq)\n",
    "\n",
    "lin = np.linspace(0, 1, 5) # Tableau de 5 valeurs entre 0 et 1\n",
    "print(lin)"
   ]
  },
  {
   "cell_type": "markdown",
   "id": "1164297f",
   "metadata": {},
   "source": [
    "Partie 3 : Opérations sur les tableaux\n",
    "\n",
    "Opérations élémentaires\n",
    "\n",
    "NumPy permet des calculs élément par élément sur les tableaux :"
   ]
  },
  {
   "cell_type": "code",
   "execution_count": 4,
   "id": "fc26c7bb",
   "metadata": {},
   "outputs": [
    {
     "name": "stdout",
     "output_type": "stream",
     "text": [
      "[5 7 9]\n",
      "[-3 -3 -3]\n",
      "[ 4 10 18]\n",
      "[0.25 0.4  0.5 ]\n"
     ]
    }
   ],
   "source": [
    "a = np.array([1, 2, 3])\n",
    "b = np.array([4, 5, 6])\n",
    "\n",
    "print(a + b)  \n",
    "print(a - b)  \n",
    "print(a * b)  \n",
    "print(a / b)  "
   ]
  },
  {
   "cell_type": "markdown",
   "id": "d6ea0b64",
   "metadata": {},
   "source": [
    "Produit matriciel\n",
    "\n",
    "Pour les tableaux 2D, utilisez np.dot() ou l'opérateur @ :"
   ]
  },
  {
   "cell_type": "code",
   "execution_count": 5,
   "id": "25cac6f1",
   "metadata": {},
   "outputs": [
    {
     "name": "stdout",
     "output_type": "stream",
     "text": [
      "[[19 22]\n",
      " [43 50]]\n"
     ]
    }
   ],
   "source": [
    "mat1 = np.array([[1, 2], [3, 4]])\n",
    "mat2 = np.array([[5, 6], [7, 8]])\n",
    "print(np.dot(mat1, mat2))"
   ]
  },
  {
   "cell_type": "markdown",
   "id": "67e61a2b",
   "metadata": {},
   "source": [
    "Fonctions universelles (ufuncs)\n",
    "\n",
    "Appliquez des fonctions mathématiques à chaque élément :"
   ]
  },
  {
   "cell_type": "code",
   "execution_count": 12,
   "id": "dfa52a25",
   "metadata": {},
   "outputs": [
    {
     "name": "stdout",
     "output_type": "stream",
     "text": [
      "[0.0000000e+00 1.0000000e+00 1.2246468e-16]\n",
      "[ 1.000000e+00  6.123234e-17 -1.000000e+00]\n",
      "[ 0.00000000e+00  1.63312394e+16 -1.22464680e-16]\n"
     ]
    }
   ],
   "source": [
    "arr = np.array([0, np.pi/2, np.pi])\n",
    "print(np.sin(arr))\n",
    "print(np.cos(arr))\n",
    "print(np.tan(arr))"
   ]
  },
  {
   "cell_type": "markdown",
   "id": "a17ce136",
   "metadata": {},
   "source": [
    "Partie 4 : Indexation et slicing\n",
    "\n",
    "Indexation\n",
    "\n",
    "Accédez aux éléments avec des indices :"
   ]
  },
  {
   "cell_type": "code",
   "execution_count": 7,
   "id": "5ed37d90",
   "metadata": {},
   "outputs": [
    {
     "name": "stdout",
     "output_type": "stream",
     "text": [
      "10\n",
      "20\n",
      "6\n",
      "[1 2 3]\n",
      "[2 5 8]\n",
      "[[4 5]\n",
      " [7 8]]\n",
      "[[1 3]\n",
      " [7 9]]\n",
      "[5 6]\n"
     ]
    }
   ],
   "source": [
    "arr = np.array([10, 20, 30, 40])\n",
    "print(arr[0])   \n",
    "print(arr[1])\n",
    "\n",
    "mat = np.array([[1, 2, 3], [4, 5, 6], [7, 8, 9]])\n",
    "print(mat[1, 2])  # Élément à la 2ème ligne et 3ème colonne\n",
    "print(mat[0, :]) # Première ligne\n",
    "print(mat[:, 1]) # Deuxième colonne\n",
    "print(mat[1:3, 0:2]) # Sous-matrice de la 2ème à la 3ème ligne et de la 1ère à la 2ème colonne\n",
    "print(mat[::2, ::2]) # Sous-matrice avec un pas de 2\n",
    "print(mat[1, 1:3]) # Élément à la 2ème ligne et colonnes 2 à 3"
   ]
  },
  {
   "cell_type": "markdown",
   "id": "c636756b",
   "metadata": {},
   "source": [
    "Partie 5 : Fonctions statistiques et mathématiques\n",
    "\n",
    "NumPy fournit des outils pour analyser les données :\n",
    "\n",
    "np.mean() : Moyenne\n",
    "\n",
    "np.median() : Médiane\n",
    "\n",
    "np.std() : Écart-type\n",
    "\n",
    "np.sum() : Somme\n",
    "\n",
    "np.min() : Minimum\n",
    "\n",
    "np.max() : Maximum"
   ]
  },
  {
   "cell_type": "code",
   "execution_count": 8,
   "id": "b3335c21",
   "metadata": {},
   "outputs": [
    {
     "name": "stdout",
     "output_type": "stream",
     "text": [
      "3.0\n",
      "15\n",
      "1.4142135623730951\n",
      "5\n",
      "1\n",
      "3.0\n"
     ]
    }
   ],
   "source": [
    "data = np.array([1, 2, 3, 4, 5])\n",
    "print(np.mean(data)) # Moyenne \n",
    "print(np.sum(data))   # Somme\n",
    "print(np.std(data))   # Écart type\n",
    "print(np.max(data))  # Maximum\n",
    "print(np.min(data))  # Minimum\n",
    "print(np.median(data)) # Médiane"
   ]
  },
  {
   "cell_type": "markdown",
   "id": "14f9a36e",
   "metadata": {},
   "source": [
    "Calculs par axe\n",
    "\n",
    "Pour les tableaux 2D, spécifiez l'axe :"
   ]
  },
  {
   "cell_type": "code",
   "execution_count": 9,
   "id": "cfb655fc",
   "metadata": {},
   "outputs": [
    {
     "name": "stdout",
     "output_type": "stream",
     "text": [
      "[4 6]\n",
      "[3 7]\n",
      "[2. 3.]\n",
      "[1.5 3.5]\n"
     ]
    }
   ],
   "source": [
    "mat = np.array([[1, 2], [3, 4]])\n",
    "print(np.sum(mat, axis=0))  # Somme par colonne\n",
    "print(np.sum(mat, axis=1)) # Somme par ligne\n",
    "print(np.mean(mat, axis=0)) # Moyenne par colonne\n",
    "print(np.mean(mat, axis=1)) # Moyenne par ligne"
   ]
  },
  {
   "cell_type": "markdown",
   "id": "b891cfa4",
   "metadata": {},
   "source": [
    "Partie 6 : Manipulation de formes"
   ]
  },
  {
   "cell_type": "code",
   "execution_count": 10,
   "id": "094d5861",
   "metadata": {},
   "outputs": [
    {
     "name": "stdout",
     "output_type": "stream",
     "text": [
      "[[0 1 2]\n",
      " [3 4 5]]\n",
      "[[0 3]\n",
      " [1 4]\n",
      " [2 5]]\n",
      "[0 1 2 3 4 5]\n",
      "[0 1 2 3 4 5]\n"
     ]
    }
   ],
   "source": [
    "arr = np.arange(6)  # Tableau de 0 à 5\n",
    "mat = arr.reshape((2, 3))  # Reshape en 2 lignes et 3 colonnes\n",
    "print(mat) # Affiche le tableau\n",
    "print(mat.T) # Transposition de la matrice\n",
    "print(mat.flatten()) # Aplatir la matrice en un tableau 1D\n",
    "print(mat.ravel()) # Aplatir la matrice en un tableau 1D (vue)\n"
   ]
  },
  {
   "cell_type": "markdown",
   "id": "78f1cd0f",
   "metadata": {},
   "source": [
    "Génération de nombres aléatoires\n",
    "\n",
    "Utilisez np.random pour générer des données aléatoires :"
   ]
  },
  {
   "cell_type": "code",
   "execution_count": 11,
   "id": "beebf905",
   "metadata": {},
   "outputs": [
    {
     "name": "stdout",
     "output_type": "stream",
     "text": [
      "[0.44528803 0.6208392  0.40406291 0.35121243 0.40062323]\n",
      "[[-0.84926935  0.46464429]\n",
      " [ 0.42512009  1.52125501]]\n",
      "[[0 6 2]\n",
      " [8 4 5]]\n"
     ]
    }
   ],
   "source": [
    "rand_arr = np.random.rand(5)  # 5 nombres entre 0 et 1\n",
    "print(rand_arr)\n",
    "\n",
    "rand_mat = np.random.randn(2, 2)  # Matrice 2x2 (distribution normale)\n",
    "print(rand_mat)\n",
    "\n",
    "rand_int = np.random.randint(0, 10, (2, 3))  # Matrice 2x3 d'entiers entre 0 et 10\n",
    "print(rand_int)\n"
   ]
  }
 ],
 "metadata": {
  "kernelspec": {
   "display_name": "base",
   "language": "python",
   "name": "python3"
  },
  "language_info": {
   "codemirror_mode": {
    "name": "ipython",
    "version": 3
   },
   "file_extension": ".py",
   "mimetype": "text/x-python",
   "name": "python",
   "nbconvert_exporter": "python",
   "pygments_lexer": "ipython3",
   "version": "3.12.7"
  }
 },
 "nbformat": 4,
 "nbformat_minor": 5
}
