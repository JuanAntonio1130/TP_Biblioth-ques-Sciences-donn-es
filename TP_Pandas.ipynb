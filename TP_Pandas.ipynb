{
 "cells": [
  {
   "cell_type": "markdown",
   "id": "10856bcf",
   "metadata": {},
   "source": [
    "# TP : Maîtriser la Bibliothèque Pandas en Python"
   ]
  },
  {
   "cell_type": "markdown",
   "id": "989d9a33",
   "metadata": {},
   "source": [
    "## Introduction\n",
    "\n",
    "Pandas est une bibliothèque puissante en Python pour la manipulation et l’analyse de données. Elle fournit des structures de données comme les Series (unidimensionnelles) et les DataFrame (bidimensionnelles) qui sont essentielles pour gérer des données structurées.\n",
    "\n",
    "Ce TP vous guidera à travers les concepts fondamentaux de Pandas : création et chargement de données, inspection, sélection et filtrage, nettoyage, transformation, analyse statistique, et exercices pratiques. Aucun autre bibliothèque que Pandas ne sera utilisée pour les manipulations de données.\n",
    "\n",
    "Prérequis\n",
    "\n",
    "Connaissance de base en Python\n",
    "\n",
    "Pandas installé (pip install pandas)"
   ]
  },
  {
   "cell_type": "markdown",
   "id": "840b0efa",
   "metadata": {},
   "source": [
    "### Partie 1 : Création et Chargement de Données\n",
    "\n",
    "#### 1.1 Création de Series et DataFrames\n",
    "\n",
    "Une Series est un tableau unidimensionnel avec des étiquettes, tandis qu’un DataFrame est une structure bidimensionnelle semblable à une table."
   ]
  },
  {
   "cell_type": "code",
   "execution_count": 1,
   "id": "1df317e0",
   "metadata": {},
   "outputs": [
    {
     "name": "stdout",
     "output_type": "stream",
     "text": [
      "a    1\n",
      "b    2\n",
      "c    3\n",
      "d    4\n",
      "dtype: int64\n",
      "       Nom  Âge      Ville\n",
      "0    Alice   25      Paris\n",
      "1      Bob   30       Lyon\n",
      "2  Charlie   35  Marseille\n"
     ]
    }
   ],
   "source": [
    "import pandas as pd\n",
    "\n",
    "# Création d'une Series\n",
    "s = pd.Series([1, 2, 3, 4], index=['a', 'b', 'c', 'd'])\n",
    "print(s)\n",
    "\n",
    "# Création d'un DataFrame\n",
    "df = pd.DataFrame({\n",
    "    'Nom': ['Alice', 'Bob', 'Charlie'],\n",
    "    'Âge': [25, 30, 35],\n",
    "    'Ville': ['Paris', 'Lyon', 'Marseille']\n",
    "})\n",
    "print(df)"
   ]
  },
  {
   "cell_type": "markdown",
   "id": "22d803d5",
   "metadata": {},
   "source": [
    "### 1.2 Chargement de Données depuis un Fichier CSV\n",
    "\n",
    "Pour ce TP, nous utiliserons un fichier nommé livres.csv\n",
    "\n",
    "Chargez ce fichier dans un DataFrame :"
   ]
  },
  {
   "cell_type": "code",
   "execution_count": 2,
   "id": "344cd67b",
   "metadata": {},
   "outputs": [
    {
     "name": "stdout",
     "output_type": "stream",
     "text": [
      "                                   Title               Author  Year Published  \\\n",
      "0                       The Great Gatsby  F. Scott Fitzgerald          1925.0   \n",
      "1                  To Kill a Mockingbird           Harper Lee          1960.0   \n",
      "2                                   1984        George Orwell             NaN   \n",
      "3                    Pride and Prejudice          Jane Austen          1813.0   \n",
      "4                 The Catcher in the Rye       J. D. Salinger          1951.0   \n",
      "5                            Animal Farm        George Orwell          1945.0   \n",
      "6  Harry Potter and the Sorcerer's Stone         J.K. Rowling          1997.0   \n",
      "7                             The Hobbit       J.R.R. Tolkien          1937.0   \n",
      "8                       The Great Gatsby  F. Scott Fitzgerald          1925.0   \n",
      "\n",
      "       Genre  Number of Pages  Rating  \n",
      "0    Fiction            180.0     4.5  \n",
      "1    Fiction            281.0     4.8  \n",
      "2  Dystopian            328.0     4.7  \n",
      "3    Romance              NaN     4.6  \n",
      "4    Fiction            234.0     NaN  \n",
      "5     Satire            112.0     4.3  \n",
      "6    Fantasy            309.0     4.9  \n",
      "7    Fantasy            310.0     4.8  \n",
      "8    Fiction            180.0     4.5  \n"
     ]
    }
   ],
   "source": [
    "df = pd.read_csv('livres.csv')\n",
    "print(df)"
   ]
  },
  {
   "cell_type": "markdown",
   "id": "305a7ebc",
   "metadata": {},
   "source": [
    "## Partie 2 : Inspection des Données\n",
    "\n",
    "### 2.1 Visualisation des Données\n",
    "\n",
    "head(n) : Affiche les n premières lignes (5 par défaut)\n",
    "\n",
    "tail(n) : Affiche les n dernières lignes\n",
    "\n",
    "info() : Fournit des informations sur le DataFrame (types, valeurs non nulles)\n",
    "\n",
    "describe() : Statistiques descriptives des colonnes numériques"
   ]
  },
  {
   "cell_type": "code",
   "execution_count": 8,
   "id": "f92fb4f5",
   "metadata": {},
   "outputs": [
    {
     "name": "stdout",
     "output_type": "stream",
     "text": [
      "                   Title               Author  Year Published      Genre  \\\n",
      "0       The Great Gatsby  F. Scott Fitzgerald          1925.0    Fiction   \n",
      "1  To Kill a Mockingbird           Harper Lee          1960.0    Fiction   \n",
      "2                   1984        George Orwell             NaN  Dystopian   \n",
      "\n",
      "   Number of Pages  Rating  \n",
      "0            180.0     4.5  \n",
      "1            281.0     4.8  \n",
      "2            328.0     4.7  \n",
      "<class 'pandas.core.frame.DataFrame'>\n",
      "RangeIndex: 9 entries, 0 to 8\n",
      "Data columns (total 6 columns):\n",
      " #   Column           Non-Null Count  Dtype  \n",
      "---  ------           --------------  -----  \n",
      " 0   Title            9 non-null      object \n",
      " 1   Author           9 non-null      object \n",
      " 2   Year Published   8 non-null      float64\n",
      " 3   Genre            9 non-null      object \n",
      " 4   Number of Pages  8 non-null      float64\n",
      " 5   Rating           8 non-null      float64\n",
      "dtypes: float64(3), object(3)\n",
      "memory usage: 564.0+ bytes\n",
      "       Year Published  Number of Pages    Rating\n",
      "count        8.000000         8.000000  8.000000\n",
      "mean      1931.625000       241.750000  4.637500\n",
      "std         53.213686        78.085576  0.199553\n",
      "min       1813.000000       112.000000  4.300000\n",
      "25%       1925.000000       180.000000  4.500000\n",
      "50%       1941.000000       257.500000  4.650000\n",
      "75%       1953.250000       309.250000  4.800000\n",
      "max       1997.000000       328.000000  4.900000\n",
      "                                   Title               Author  Year Published  \\\n",
      "6  Harry Potter and the Sorcerer's Stone         J.K. Rowling          1997.0   \n",
      "7                             The Hobbit       J.R.R. Tolkien          1937.0   \n",
      "8                       The Great Gatsby  F. Scott Fitzgerald          1925.0   \n",
      "\n",
      "     Genre  Number of Pages  Rating  \n",
      "6  Fantasy            309.0     4.9  \n",
      "7  Fantasy            310.0     4.8  \n",
      "8  Fiction            180.0     4.5  \n"
     ]
    }
   ],
   "source": [
    "# Affichage des 3 premières lignes, des informations et des statistiques descriptives\n",
    "print(df.head(3))\n",
    "df.info()\n",
    "print(df.describe())\n",
    "print(df.tail(3))"
   ]
  },
  {
   "cell_type": "markdown",
   "id": "988e6cb2",
   "metadata": {},
   "source": [
    "### 2.2 Vérification des Valeurs Manquantes\n",
    "\n",
    "isnull().sum() : Compte les valeurs manquantes par colonne"
   ]
  },
  {
   "cell_type": "code",
   "execution_count": 9,
   "id": "6a632b16",
   "metadata": {},
   "outputs": [
    {
     "name": "stdout",
     "output_type": "stream",
     "text": [
      "Title              0\n",
      "Author             0\n",
      "Year Published     1\n",
      "Genre              0\n",
      "Number of Pages    1\n",
      "Rating             1\n",
      "dtype: int64\n"
     ]
    }
   ],
   "source": [
    "print(df.isnull().sum())"
   ]
  },
  {
   "cell_type": "markdown",
   "id": "e995f9e9",
   "metadata": {},
   "source": [
    "## Partie 3 : Sélection et Filtrage des Données\n",
    "\n",
    "### 3.1 Sélection de Colonnes\n",
    "\n",
    "\n",
    "\n",
    "\n",
    "\n",
    "df['nom_colonne'] : Sélectionne une colonne (retourne une Series)\n",
    "\n",
    "\n",
    "\n",
    "df[['col1', 'col2']] : Sélectionne plusieurs colonnes (retourne un DataFrame)"
   ]
  },
  {
   "cell_type": "code",
   "execution_count": 12,
   "id": "67c2b253",
   "metadata": {},
   "outputs": [
    {
     "name": "stdout",
     "output_type": "stream",
     "text": [
      " Title: \n",
      " 0                         The Great Gatsby\n",
      "1                    To Kill a Mockingbird\n",
      "2                                     1984\n",
      "3                      Pride and Prejudice\n",
      "4                   The Catcher in the Rye\n",
      "5                              Animal Farm\n",
      "6    Harry Potter and the Sorcerer's Stone\n",
      "7                               The Hobbit\n",
      "8                         The Great Gatsby\n",
      "Name: Title, dtype: object\n",
      " Details: \n",
      "                                    Title               Author\n",
      "0                       The Great Gatsby  F. Scott Fitzgerald\n",
      "1                  To Kill a Mockingbird           Harper Lee\n",
      "2                                   1984        George Orwell\n",
      "3                    Pride and Prejudice          Jane Austen\n",
      "4                 The Catcher in the Rye       J. D. Salinger\n",
      "5                            Animal Farm        George Orwell\n",
      "6  Harry Potter and the Sorcerer's Stone         J.K. Rowling\n",
      "7                             The Hobbit       J.R.R. Tolkien\n",
      "8                       The Great Gatsby  F. Scott Fitzgerald\n"
     ]
    }
   ],
   "source": [
    "print(\" Title: \\n\",df['Title'])\n",
    "print(\" Details: \\n\",df[['Title', 'Author']])"
   ]
  },
  {
   "cell_type": "markdown",
   "id": "1cc64fc7",
   "metadata": {},
   "source": [
    "### 3.2 Sélection de Lignes\n",
    "\n",
    "\n",
    "\n",
    "\n",
    "\n",
    "loc[label] : Sélection par étiquette\n",
    "\n",
    "\n",
    "\n",
    "iloc[position] : Sélection par position entière"
   ]
  },
  {
   "cell_type": "code",
   "execution_count": 13,
   "id": "ed06dc0b",
   "metadata": {},
   "outputs": [
    {
     "name": "stdout",
     "output_type": "stream",
     "text": [
      "Title                 The Great Gatsby\n",
      "Author             F. Scott Fitzgerald\n",
      "Year Published                  1925.0\n",
      "Genre                          Fiction\n",
      "Number of Pages                  180.0\n",
      "Rating                             4.5\n",
      "Name: 0, dtype: object\n",
      "                   Title               Author  Year Published    Genre  \\\n",
      "0       The Great Gatsby  F. Scott Fitzgerald          1925.0  Fiction   \n",
      "1  To Kill a Mockingbird           Harper Lee          1960.0  Fiction   \n",
      "\n",
      "   Number of Pages  Rating  \n",
      "0            180.0     4.5  \n",
      "1            281.0     4.8  \n"
     ]
    }
   ],
   "source": [
    "print(df.loc[0])       # Première ligne\n",
    "print(df.iloc[0:2])    # Deux premières lignes"
   ]
  },
  {
   "cell_type": "markdown",
   "id": "5d813892",
   "metadata": {},
   "source": [
    "### 3.3 Filtrage avec Indexation Booléenne\n",
    "\n",
    "Filtrez les lignes selon des conditions :"
   ]
  },
  {
   "cell_type": "code",
   "execution_count": 14,
   "id": "9d3b6396",
   "metadata": {},
   "outputs": [
    {
     "name": "stdout",
     "output_type": "stream",
     "text": [
      "         Title         Author  Year Published      Genre  Number of Pages  \\\n",
      "2         1984  George Orwell             NaN  Dystopian            328.0   \n",
      "5  Animal Farm  George Orwell          1945.0     Satire            112.0   \n",
      "\n",
      "   Rating  \n",
      "2     4.7  \n",
      "5     4.3  \n"
     ]
    }
   ],
   "source": [
    "print(df[df['Author'] == 'George Orwell'])  # Livres de George Orwell"
   ]
  },
  {
   "cell_type": "markdown",
   "id": "f2b12576",
   "metadata": {},
   "source": [
    "## Partie 4 : Nettoyage des Données\n",
    "\n",
    "### 4.1 Gestion des Valeurs Manquantes\n",
    "\n",
    "Vérifiez d’abord les valeurs manquantes :"
   ]
  },
  {
   "cell_type": "code",
   "execution_count": 15,
   "id": "b8869d1d",
   "metadata": {},
   "outputs": [
    {
     "name": "stdout",
     "output_type": "stream",
     "text": [
      "Title              0\n",
      "Author             0\n",
      "Year Published     1\n",
      "Genre              0\n",
      "Number of Pages    1\n",
      "Rating             1\n",
      "dtype: int64\n"
     ]
    }
   ],
   "source": [
    "print(df.isnull().sum())"
   ]
  },
  {
   "cell_type": "markdown",
   "id": "079c401d",
   "metadata": {},
   "source": [
    "### Remplacez les valeurs manquantes :\n",
    "\n",
    "\n",
    "\n",
    "\n",
    "\n",
    "Year Published avec la médiane\n",
    "\n",
    "\n",
    "\n",
    "Number of Pages avec la moyenne\n",
    "\n",
    "\n",
    "\n",
    "Rating avec 0"
   ]
  },
  {
   "cell_type": "code",
   "execution_count": 16,
   "id": "cedbfa2b",
   "metadata": {},
   "outputs": [
    {
     "name": "stdout",
     "output_type": "stream",
     "text": [
      "                                   Title               Author  Year Published  \\\n",
      "0                       The Great Gatsby  F. Scott Fitzgerald          1925.0   \n",
      "1                  To Kill a Mockingbird           Harper Lee          1960.0   \n",
      "2                                   1984        George Orwell          1941.0   \n",
      "3                    Pride and Prejudice          Jane Austen          1813.0   \n",
      "4                 The Catcher in the Rye       J. D. Salinger          1951.0   \n",
      "5                            Animal Farm        George Orwell          1945.0   \n",
      "6  Harry Potter and the Sorcerer's Stone         J.K. Rowling          1997.0   \n",
      "7                             The Hobbit       J.R.R. Tolkien          1937.0   \n",
      "8                       The Great Gatsby  F. Scott Fitzgerald          1925.0   \n",
      "\n",
      "       Genre  Number of Pages  Rating  \n",
      "0    Fiction           180.00     4.5  \n",
      "1    Fiction           281.00     4.8  \n",
      "2  Dystopian           328.00     4.7  \n",
      "3    Romance           241.75     4.6  \n",
      "4    Fiction           234.00     0.0  \n",
      "5     Satire           112.00     4.3  \n",
      "6    Fantasy           309.00     4.9  \n",
      "7    Fantasy           310.00     4.8  \n",
      "8    Fiction           180.00     4.5  \n"
     ]
    },
    {
     "name": "stderr",
     "output_type": "stream",
     "text": [
      "C:\\Users\\pc gold\\AppData\\Local\\Temp\\ipykernel_25028\\1361165919.py:3: FutureWarning: A value is trying to be set on a copy of a DataFrame or Series through chained assignment using an inplace method.\n",
      "The behavior will change in pandas 3.0. This inplace method will never work because the intermediate object on which we are setting values always behaves as a copy.\n",
      "\n",
      "For example, when doing 'df[col].method(value, inplace=True)', try using 'df.method({col: value}, inplace=True)' or df[col] = df[col].method(value) instead, to perform the operation inplace on the original object.\n",
      "\n",
      "\n",
      "  df['Year Published'].fillna(median_year, inplace=True)\n",
      "C:\\Users\\pc gold\\AppData\\Local\\Temp\\ipykernel_25028\\1361165919.py:4: FutureWarning: A value is trying to be set on a copy of a DataFrame or Series through chained assignment using an inplace method.\n",
      "The behavior will change in pandas 3.0. This inplace method will never work because the intermediate object on which we are setting values always behaves as a copy.\n",
      "\n",
      "For example, when doing 'df[col].method(value, inplace=True)', try using 'df.method({col: value}, inplace=True)' or df[col] = df[col].method(value) instead, to perform the operation inplace on the original object.\n",
      "\n",
      "\n",
      "  df['Number of Pages'].fillna(mean_pages, inplace=True)\n",
      "C:\\Users\\pc gold\\AppData\\Local\\Temp\\ipykernel_25028\\1361165919.py:5: FutureWarning: A value is trying to be set on a copy of a DataFrame or Series through chained assignment using an inplace method.\n",
      "The behavior will change in pandas 3.0. This inplace method will never work because the intermediate object on which we are setting values always behaves as a copy.\n",
      "\n",
      "For example, when doing 'df[col].method(value, inplace=True)', try using 'df.method({col: value}, inplace=True)' or df[col] = df[col].method(value) instead, to perform the operation inplace on the original object.\n",
      "\n",
      "\n",
      "  df['Rating'].fillna(0, inplace=True) # Remplacer les valeurs manquantes par 0\n"
     ]
    }
   ],
   "source": [
    "median_year = df['Year Published'].median() # Remplacer les valeurs manquantes par la médiane\n",
    "mean_pages = df['Number of Pages'].mean()   # Remplacer par la moyenne\n",
    "df['Year Published'].fillna(median_year, inplace=True) \n",
    "df['Number of Pages'].fillna(mean_pages, inplace=True)\n",
    "df['Rating'].fillna(0, inplace=True) # Remplacer les valeurs manquantes par 0\n",
    "print(df)"
   ]
  },
  {
   "cell_type": "markdown",
   "id": "08101ec8",
   "metadata": {},
   "source": [
    "### 4.2 Suppression des Doublons\n",
    "\n",
    "Supprimez les lignes dupliquées (ex. \"The Great Gatsby\") :"
   ]
  },
  {
   "cell_type": "code",
   "execution_count": 17,
   "id": "e2702b44",
   "metadata": {},
   "outputs": [
    {
     "name": "stdout",
     "output_type": "stream",
     "text": [
      "                                   Title               Author  Year Published  \\\n",
      "0                       The Great Gatsby  F. Scott Fitzgerald          1925.0   \n",
      "1                  To Kill a Mockingbird           Harper Lee          1960.0   \n",
      "2                                   1984        George Orwell          1941.0   \n",
      "3                    Pride and Prejudice          Jane Austen          1813.0   \n",
      "4                 The Catcher in the Rye       J. D. Salinger          1951.0   \n",
      "5                            Animal Farm        George Orwell          1945.0   \n",
      "6  Harry Potter and the Sorcerer's Stone         J.K. Rowling          1997.0   \n",
      "7                             The Hobbit       J.R.R. Tolkien          1937.0   \n",
      "\n",
      "       Genre  Number of Pages  Rating  \n",
      "0    Fiction           180.00     4.5  \n",
      "1    Fiction           281.00     4.8  \n",
      "2  Dystopian           328.00     4.7  \n",
      "3    Romance           241.75     4.6  \n",
      "4    Fiction           234.00     0.0  \n",
      "5     Satire           112.00     4.3  \n",
      "6    Fantasy           309.00     4.9  \n",
      "7    Fantasy           310.00     4.8  \n"
     ]
    }
   ],
   "source": [
    "df = df.drop_duplicates()\n",
    "print(df)"
   ]
  },
  {
   "cell_type": "markdown",
   "id": "620e2a97",
   "metadata": {},
   "source": [
    "### 4.3 Renommage des Colonnes\n",
    "\n",
    "Renommez Number of Pages en Pages :"
   ]
  },
  {
   "cell_type": "code",
   "execution_count": 18,
   "id": "8ec17394",
   "metadata": {},
   "outputs": [
    {
     "name": "stdout",
     "output_type": "stream",
     "text": [
      "                                   Title               Author  Year Published  \\\n",
      "0                       The Great Gatsby  F. Scott Fitzgerald          1925.0   \n",
      "1                  To Kill a Mockingbird           Harper Lee          1960.0   \n",
      "2                                   1984        George Orwell          1941.0   \n",
      "3                    Pride and Prejudice          Jane Austen          1813.0   \n",
      "4                 The Catcher in the Rye       J. D. Salinger          1951.0   \n",
      "5                            Animal Farm        George Orwell          1945.0   \n",
      "6  Harry Potter and the Sorcerer's Stone         J.K. Rowling          1997.0   \n",
      "7                             The Hobbit       J.R.R. Tolkien          1937.0   \n",
      "\n",
      "       Genre   Pages  Rating  \n",
      "0    Fiction  180.00     4.5  \n",
      "1    Fiction  281.00     4.8  \n",
      "2  Dystopian  328.00     4.7  \n",
      "3    Romance  241.75     4.6  \n",
      "4    Fiction  234.00     0.0  \n",
      "5     Satire  112.00     4.3  \n",
      "6    Fantasy  309.00     4.9  \n",
      "7    Fantasy  310.00     4.8  \n"
     ]
    }
   ],
   "source": [
    "df.rename(columns={'Number of Pages': 'Pages'}, inplace=True)\n",
    "print(df)"
   ]
  },
  {
   "cell_type": "markdown",
   "id": "95cd1803",
   "metadata": {},
   "source": [
    "### 4.4 Changement de Types de Données\n",
    "\n",
    "Convertissez Year Published en entier (après avoir rempli les valeurs manquantes) :"
   ]
  },
  {
   "cell_type": "code",
   "execution_count": 19,
   "id": "fd359824",
   "metadata": {},
   "outputs": [
    {
     "name": "stdout",
     "output_type": "stream",
     "text": [
      "<class 'pandas.core.frame.DataFrame'>\n",
      "Index: 8 entries, 0 to 7\n",
      "Data columns (total 6 columns):\n",
      " #   Column          Non-Null Count  Dtype  \n",
      "---  ------          --------------  -----  \n",
      " 0   Title           8 non-null      object \n",
      " 1   Author          8 non-null      object \n",
      " 2   Year Published  8 non-null      int32  \n",
      " 3   Genre           8 non-null      object \n",
      " 4   Pages           8 non-null      float64\n",
      " 5   Rating          8 non-null      float64\n",
      "dtypes: float64(2), int32(1), object(3)\n",
      "memory usage: 416.0+ bytes\n",
      "None\n"
     ]
    }
   ],
   "source": [
    "df['Year Published'] = df['Year Published'].astype(int)\n",
    "print(df.info())"
   ]
  },
  {
   "cell_type": "markdown",
   "id": "b5979f3b",
   "metadata": {},
   "source": [
    "## Partie 5 : Transformation des Données\n",
    "\n",
    "### 5.1 Application de Fonctions\n",
    "\n",
    "Ajoutez une colonne Century calculée à partir de Year Published :"
   ]
  },
  {
   "cell_type": "code",
   "execution_count": 20,
   "id": "73f1bacb",
   "metadata": {},
   "outputs": [
    {
     "name": "stdout",
     "output_type": "stream",
     "text": [
      "                                   Title               Author  Year Published  \\\n",
      "0                       The Great Gatsby  F. Scott Fitzgerald            1925   \n",
      "1                  To Kill a Mockingbird           Harper Lee            1960   \n",
      "2                                   1984        George Orwell            1941   \n",
      "3                    Pride and Prejudice          Jane Austen            1813   \n",
      "4                 The Catcher in the Rye       J. D. Salinger            1951   \n",
      "5                            Animal Farm        George Orwell            1945   \n",
      "6  Harry Potter and the Sorcerer's Stone         J.K. Rowling            1997   \n",
      "7                             The Hobbit       J.R.R. Tolkien            1937   \n",
      "\n",
      "       Genre   Pages  Rating  Century  \n",
      "0    Fiction  180.00     4.5       20  \n",
      "1    Fiction  281.00     4.8       20  \n",
      "2  Dystopian  328.00     4.7       20  \n",
      "3    Romance  241.75     4.6       19  \n",
      "4    Fiction  234.00     0.0       20  \n",
      "5     Satire  112.00     4.3       20  \n",
      "6    Fantasy  309.00     4.9       20  \n",
      "7    Fantasy  310.00     4.8       20  \n"
     ]
    }
   ],
   "source": [
    "def get_century(year):\n",
    "    return (year // 100) + 1\n",
    "\n",
    "df['Century'] = df['Year Published'].apply(get_century)\n",
    "print(df)"
   ]
  },
  {
   "cell_type": "markdown",
   "id": "3bb2a45f",
   "metadata": {},
   "source": [
    "### 5.2 Groupement des Données\n",
    "\n",
    "Groupez par Genre et calculez la moyenne de Rating :"
   ]
  },
  {
   "cell_type": "code",
   "execution_count": 21,
   "id": "88f0f955",
   "metadata": {},
   "outputs": [
    {
     "name": "stdout",
     "output_type": "stream",
     "text": [
      "Genre\n",
      "Dystopian    4.70\n",
      "Fantasy      4.85\n",
      "Fiction      3.10\n",
      "Romance      4.60\n",
      "Satire       4.30\n",
      "Name: Rating, dtype: float64\n"
     ]
    }
   ],
   "source": [
    "genre_rating = df.groupby('Genre')['Rating'].mean()\n",
    "print(genre_rating)"
   ]
  },
  {
   "cell_type": "markdown",
   "id": "17ef74b2",
   "metadata": {},
   "source": [
    "### 5.3 Fusion de DataFrames\n",
    "\n",
    "Créez un DataFrame avec les nationalités des auteurs et fusionnez-le :"
   ]
  },
  {
   "cell_type": "code",
   "execution_count": 22,
   "id": "d9c6abfc",
   "metadata": {},
   "outputs": [
    {
     "name": "stdout",
     "output_type": "stream",
     "text": [
      "                                   Title               Author  Year Published  \\\n",
      "0                       The Great Gatsby  F. Scott Fitzgerald            1925   \n",
      "1                  To Kill a Mockingbird           Harper Lee            1960   \n",
      "2                                   1984        George Orwell            1941   \n",
      "3                    Pride and Prejudice          Jane Austen            1813   \n",
      "4                 The Catcher in the Rye       J. D. Salinger            1951   \n",
      "5                            Animal Farm        George Orwell            1945   \n",
      "6  Harry Potter and the Sorcerer's Stone         J.K. Rowling            1997   \n",
      "7                             The Hobbit       J.R.R. Tolkien            1937   \n",
      "\n",
      "       Genre   Pages  Rating  Century Nationality  \n",
      "0    Fiction  180.00     4.5       20    American  \n",
      "1    Fiction  281.00     4.8       20    American  \n",
      "2  Dystopian  328.00     4.7       20     British  \n",
      "3    Romance  241.75     4.6       19     British  \n",
      "4    Fiction  234.00     0.0       20    American  \n",
      "5     Satire  112.00     4.3       20     British  \n",
      "6    Fantasy  309.00     4.9       20     British  \n",
      "7    Fantasy  310.00     4.8       20     British  \n"
     ]
    }
   ],
   "source": [
    "authors = pd.DataFrame({\n",
    "    'Author': ['F. Scott Fitzgerald', 'Harper Lee', 'George Orwell', 'Jane Austen', 'J. D. Salinger', 'J.K. Rowling', 'J.R.R. Tolkien'],\n",
    "    'Nationality': ['American', 'American', 'British', 'British', 'American', 'British', 'British']\n",
    "})\n",
    "\n",
    "df_merged = pd.merge(df, authors, on='Author', how='left')\n",
    "print(df_merged)"
   ]
  },
  {
   "cell_type": "markdown",
   "id": "164e4491",
   "metadata": {},
   "source": [
    "## Partie 6 : Analyse Statistique\n",
    "\n",
    "### 6.1 Statistiques Résumées\n",
    "\n",
    "Calculez des statistiques simples :"
   ]
  },
  {
   "cell_type": "code",
   "execution_count": 23,
   "id": "ba01b61a",
   "metadata": {},
   "outputs": [
    {
     "name": "stdout",
     "output_type": "stream",
     "text": [
      "4.075\n",
      "328.0\n",
      "112.0\n",
      "1995.75\n",
      "8\n",
      "8\n",
      "1.6576661735274514\n",
      "2.7478571428571423\n",
      "4.65\n",
      "0    4.8\n",
      "Name: Rating, dtype: float64\n"
     ]
    }
   ],
   "source": [
    "print(df['Rating'].mean())  # Moyenne des notes\n",
    "print(df['Pages'].max())    # Nombre maximum de pages\n",
    "print(df['Pages'].min())    # Nombre minimum de pages\n",
    "print(df['Pages'].sum())    # Somme des pages\n",
    "print(df['Pages'].count())  # Nombre total de livres\n",
    "print(df['Rating'].count())  # Nombre total de notes\n",
    "print(df['Rating'].std())    # Écart type des notes\n",
    "print(df['Rating'].var())    # Variance des notes\n",
    "print(df['Rating'].median())  # Médiane des notes\n",
    "print(df['Rating'].mode())    # Mode des notes\n"
   ]
  },
  {
   "cell_type": "markdown",
   "id": "372686c8",
   "metadata": {},
   "source": [
    "### 6.2 Corrélation\n",
    "\n",
    "Analysez la corrélation entre les colonnes numériques :"
   ]
  },
  {
   "cell_type": "code",
   "execution_count": 24,
   "id": "419cca56",
   "metadata": {},
   "outputs": [
    {
     "name": "stdout",
     "output_type": "stream",
     "text": [
      "                Year Published     Pages    Rating\n",
      "Year Published        1.000000  0.184299 -0.091919\n",
      "Pages                 0.184299  1.000000  0.190226\n",
      "Rating               -0.091919  0.190226  1.000000\n"
     ]
    }
   ],
   "source": [
    "print(df[['Year Published', 'Pages', 'Rating']].corr())"
   ]
  },
  {
   "cell_type": "markdown",
   "id": "f73d0fd2",
   "metadata": {},
   "source": [
    "## Conclusion\n",
    "Ce TP couvre de manière exhaustive les concepts clés de Pandas avec des exemples concrets et des exercices adaptés au fichier livres.csv."
   ]
  }
 ],
 "metadata": {
  "kernelspec": {
   "display_name": "base",
   "language": "python",
   "name": "python3"
  },
  "language_info": {
   "codemirror_mode": {
    "name": "ipython",
    "version": 3
   },
   "file_extension": ".py",
   "mimetype": "text/x-python",
   "name": "python",
   "nbconvert_exporter": "python",
   "pygments_lexer": "ipython3",
   "version": "3.12.7"
  }
 },
 "nbformat": 4,
 "nbformat_minor": 5
}
